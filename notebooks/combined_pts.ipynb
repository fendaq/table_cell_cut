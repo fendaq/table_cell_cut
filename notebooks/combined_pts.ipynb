{
 "cells": [
  {
   "cell_type": "code",
   "execution_count": 1,
   "metadata": {},
   "outputs": [
    {
     "name": "stderr",
     "output_type": "stream",
     "text": [
      "/home/ubuntu/anaconda3/lib/python3.6/site-packages/matplotlib/__init__.py:962: UserWarning: Duplicate key in file \"/home/ubuntu/.config/matplotlib/matplotlibrc\", line #2\n",
      "  (fname, cnt))\n",
      "/home/ubuntu/anaconda3/lib/python3.6/site-packages/matplotlib/__init__.py:962: UserWarning: Duplicate key in file \"/home/ubuntu/.config/matplotlib/matplotlibrc\", line #3\n",
      "  (fname, cnt))\n"
     ]
    }
   ],
   "source": [
    "from PIL import Image\n",
    "from glob import glob\n",
    "import cv2\n",
    "import numpy as np\n",
    "import os\n",
    "import matplotlib.pyplot as plt\n",
    "def read_img(img_dir):\n",
    "    path_inp = os.path.join(img_dir, 'input.png')\n",
    "    path_out1 = os.path.join(img_dir, 'output1.png')\n",
    "    path_out2 = os.path.join(img_dir, 'output2.png')\n",
    "    img_inp, img_out1, img_out2 = np.array(Image.open(path_inp)),np.array(Image.open(path_out1)),np.array(Image.open(path_out2))\n",
    "    return img_inp, img_out1, img_out2\n",
    "\n",
    "def write_img(img_inp, img_out1, img_out2, output_dir):\n",
    "    os.makedirs(output_dir, exist_ok=True)\n",
    "    path_inp = os.path.join(output_dir, 'input.png')\n",
    "    path_out1 = os.path.join(output_dir, 'output1.png')\n",
    "    path_out2 = os.path.join(output_dir, 'output2.png')\n",
    "    # img_inp, img_out1, img_out2\n",
    "    for img, path in zip([img_inp, img_out1, img_out2], [path_inp, path_out1, path_out2]):\n",
    "        img = Image.fromarray(img)\n",
    "        img.save(path)\n",
    "        \n",
    "def show(img):\n",
    "    plt.figure(figsize=(20,20))\n",
    "    if len(img.shape) == 2:\n",
    "        plt.imshow(img, cmap='gray')\n",
    "    else:\n",
    "        plt.imshow(img)\n",
    "        \n",
    "    plt.show()"
   ]
  },
  {
   "cell_type": "code",
   "execution_count": 3,
   "metadata": {},
   "outputs": [],
   "source": [
    "img_dirs = glob('data/bprost_train_all/*')"
   ]
  },
  {
   "cell_type": "code",
   "execution_count": 17,
   "metadata": {},
   "outputs": [
    {
     "name": "stdout",
     "output_type": "stream",
     "text": [
      "bprost_train_all  croped_image640  test_data  train\r\n"
     ]
    }
   ],
   "source": [
    "!ls data"
   ]
  },
  {
   "cell_type": "code",
   "execution_count": 18,
   "metadata": {},
   "outputs": [
    {
     "data": {
      "text/plain": [
       "'data/bprost_train_all/12'"
      ]
     },
     "execution_count": 18,
     "metadata": {},
     "output_type": "execute_result"
    }
   ],
   "source": [
    "path"
   ]
  },
  {
   "cell_type": "code",
   "execution_count": 19,
   "metadata": {},
   "outputs": [],
   "source": [
    "os.makedirs('data/bprost_train_all', exist_ok=True)"
   ]
  },
  {
   "cell_type": "code",
   "execution_count": null,
   "metadata": {
    "scrolled": true
   },
   "outputs": [
    {
     "name": "stdout",
     "output_type": "stream",
     "text": [
      "(3088, 5488, 3) (3088, 5488) (3088, 5488)\n",
      "(3088, 10976, 3) \n",
      " =================== \n",
      "\n",
      "(2448, 3264, 3) (2448, 3264) (2448, 3264)\n",
      "(2448, 6528, 3) \n",
      " =================== \n",
      "\n",
      "(3088, 5488, 3) (3088, 5488) (3088, 5488)\n",
      "(3088, 10976, 3) \n",
      " =================== \n",
      "\n",
      "(3088, 5488, 3) (3088, 5488) (3088, 5488)\n",
      "(3088, 10976, 3) \n",
      " =================== \n",
      "\n",
      "(2448, 3264, 3) (2448, 3264) (2448, 3264)\n",
      "(2448, 6528, 3) \n",
      " =================== \n",
      "\n",
      "(2448, 3264, 3) (2448, 3264) (2448, 3264)\n",
      "(2448, 6528, 3) \n",
      " =================== \n",
      "\n",
      "(2448, 3264, 3) (2448, 3264) (2448, 3264)\n",
      "(2448, 6528, 3) \n",
      " =================== \n",
      "\n"
     ]
    }
   ],
   "source": [
    "for path in img_dirs:\n",
    "    img_inp, img_out1, img_out2 = read_img(path)\n",
    "    if len(img_out1.shape)==3:\n",
    "        img_out1 = img_out1[:,:,0]\n",
    "    if len(img_out2.shape)==3:\n",
    "        img_out2 = img_out2[:,:,0]\n",
    "    print(img_inp.shape, img_out1.shape, img_out2.shape)\n",
    "    img_out = np.stack([img_out1, img_out2, img_out2], axis=-1)\n",
    "    img_combine = np.concatenate([img_inp, img_out], axis=1)\n",
    "    print(img_combine.shape, '\\n =================== \\n')\n",
    "    img_combine_bgr = cv2.cvtColor(img_combine, cv2.COLOR_RGB2BGR)\n",
    "    cv2.imwrite('data/bprost_train_all/{}.png'.format(os.path.split(path)[-1]), img_combine_bgr)"
   ]
  },
  {
   "cell_type": "code",
   "execution_count": null,
   "metadata": {},
   "outputs": [],
   "source": []
  }
 ],
 "metadata": {
  "kernelspec": {
   "display_name": "Python 3",
   "language": "python",
   "name": "python3"
  },
  "language_info": {
   "codemirror_mode": {
    "name": "ipython",
    "version": 3
   },
   "file_extension": ".py",
   "mimetype": "text/x-python",
   "name": "python",
   "nbconvert_exporter": "python",
   "pygments_lexer": "ipython3",
   "version": "3.6.3"
  }
 },
 "nbformat": 4,
 "nbformat_minor": 2
}
