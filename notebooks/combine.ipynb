{
 "cells": [
  {
   "cell_type": "code",
   "execution_count": 1,
   "metadata": {
    "scrolled": true
   },
   "outputs": [
    {
     "name": "stdout",
     "output_type": "stream",
     "text": [
      "Requirement already satisfied: opencv-python in /Users/macos/miniconda3/lib/python3.6/site-packages\r\n",
      "Requirement already satisfied: numpy>=1.11.1 in /Users/macos/miniconda3/lib/python3.6/site-packages (from opencv-python)\r\n",
      "\u001b[33mYou are using pip version 9.0.1, however version 9.0.3 is available.\r\n",
      "You should consider upgrading via the 'pip install --upgrade pip' command.\u001b[0m\r\n"
     ]
    }
   ],
   "source": [
    "!pip install opencv-python"
   ]
  },
  {
   "cell_type": "code",
   "execution_count": 2,
   "metadata": {
    "scrolled": true
   },
   "outputs": [
    {
     "name": "stdout",
     "output_type": "stream",
     "text": [
      "Requirement already satisfied: scikit-image in /Users/macos/miniconda3/lib/python3.6/site-packages\n",
      "Requirement already satisfied: matplotlib>=1.3.1 in /Users/macos/miniconda3/lib/python3.6/site-packages (from scikit-image)\n",
      "Requirement already satisfied: networkx>=1.8 in /Users/macos/miniconda3/lib/python3.6/site-packages (from scikit-image)\n",
      "Requirement already satisfied: pillow>=2.1.0 in /Users/macos/miniconda3/lib/python3.6/site-packages (from scikit-image)\n",
      "Requirement already satisfied: scipy>=0.17.0 in /Users/macos/miniconda3/lib/python3.6/site-packages (from scikit-image)\n",
      "Requirement already satisfied: six>=1.7.3 in /Users/macos/miniconda3/lib/python3.6/site-packages (from scikit-image)\n",
      "Requirement already satisfied: PyWavelets>=0.4.0 in /Users/macos/miniconda3/lib/python3.6/site-packages (from scikit-image)\n",
      "Requirement already satisfied: numpy>=1.7.1 in /Users/macos/miniconda3/lib/python3.6/site-packages (from matplotlib>=1.3.1->scikit-image)\n",
      "Requirement already satisfied: cycler>=0.10 in /Users/macos/miniconda3/lib/python3.6/site-packages (from matplotlib>=1.3.1->scikit-image)\n",
      "Requirement already satisfied: pyparsing!=2.0.4,!=2.1.2,!=2.1.6,>=2.0.1 in /Users/macos/miniconda3/lib/python3.6/site-packages (from matplotlib>=1.3.1->scikit-image)\n",
      "Requirement already satisfied: python-dateutil>=2.1 in /Users/macos/miniconda3/lib/python3.6/site-packages (from matplotlib>=1.3.1->scikit-image)\n",
      "Requirement already satisfied: pytz in /Users/macos/miniconda3/lib/python3.6/site-packages (from matplotlib>=1.3.1->scikit-image)\n",
      "Requirement already satisfied: kiwisolver>=1.0.1 in /Users/macos/miniconda3/lib/python3.6/site-packages (from matplotlib>=1.3.1->scikit-image)\n",
      "Requirement already satisfied: decorator>=4.1.0 in /Users/macos/miniconda3/lib/python3.6/site-packages (from networkx>=1.8->scikit-image)\n",
      "Requirement already satisfied: setuptools in /Users/macos/miniconda3/lib/python3.6/site-packages (from kiwisolver>=1.0.1->matplotlib>=1.3.1->scikit-image)\n",
      "\u001b[33mYou are using pip version 9.0.1, however version 9.0.3 is available.\n",
      "You should consider upgrading via the 'pip install --upgrade pip' command.\u001b[0m\n"
     ]
    }
   ],
   "source": [
    "!pip install scikit-image"
   ]
  },
  {
   "cell_type": "code",
   "execution_count": 36,
   "metadata": {},
   "outputs": [],
   "source": [
    "import cv2\n",
    "import numpy as np\n",
    "from glob import glob\n",
    "import matplotlib.pyplot as plt\n",
    "from PIL import Image\n",
    "def read_img(path):\n",
    "    return cv2.imread(path)\n",
    "\n",
    "\n",
    "\n",
    "def load_image(path, gray=False):\n",
    "    '''\n",
    "        return RGB or gray image\n",
    "    '''\n",
    "    print(path, gray)\n",
    "    if gray:\n",
    "        img = read_img(path)\n",
    "        gray = cv2.cvtColor(img, cv2.COLOR_BGR2GRAY)\n",
    "        rv = np.array(gray>100)\n",
    "        return rv#(rv*255).astype('uint8')\n",
    "    else:\n",
    "        return cv2.cvtColor(read_img(path), cv2.COLOR_BGR2RGB)\n",
    "\n",
    "def write_image(path, image):\n",
    "    image = image.astype('uint8')\n",
    "    image = cv2.cvtColor(image, cv2.COLOR_RGB2BGR)\n",
    "    return cv2.imwrite(path, image)\n",
    "    \n",
    "def show(x):\n",
    "    plt.figure(figsize=(20, 20))\n",
    "    plt.show(plt.imshow(x))"
   ]
  },
  {
   "cell_type": "code",
   "execution_count": 37,
   "metadata": {},
   "outputs": [
    {
     "name": "stdout",
     "output_type": "stream",
     "text": [
      "\u001b[34m1\u001b[m\u001b[m                   \u001b[34mbprost\u001b[m\u001b[m              \u001b[34mcroped_image256\u001b[m\u001b[m     \u001b[34mtrain\u001b[m\u001b[m\r\n",
      "\u001b[34m__MACOSX\u001b[m\u001b[m            \u001b[34mcroped_image\u001b[m\u001b[m        \u001b[34mcroped_image640\u001b[m\u001b[m     train.zip\r\n",
      "\u001b[34manotated_form_table\u001b[m\u001b[m \u001b[34mcroped_image1024\u001b[m\u001b[m    \u001b[34minput_pts\u001b[m\u001b[m\r\n"
     ]
    }
   ],
   "source": [
    "!ls data"
   ]
  },
  {
   "cell_type": "code",
   "execution_count": 38,
   "metadata": {},
   "outputs": [],
   "source": [
    "!"
   ]
  },
  {
   "cell_type": "code",
   "execution_count": 39,
   "metadata": {
    "scrolled": true
   },
   "outputs": [
    {
     "name": "stdout",
     "output_type": "stream",
     "text": [
      "unzip:  cannot find or open data/train_data.zip/, data/train_data.zip/.zip or data/train_data.zip/.ZIP.\r\n"
     ]
    }
   ],
   "source": [
    "!unzip data/train_data.zip/"
   ]
  },
  {
   "cell_type": "code",
   "execution_count": 40,
   "metadata": {},
   "outputs": [],
   "source": [
    "import os\n",
    "for path in glob('data/input_pts/*/*.JPG'):\n",
    "    a, b = os.path.split(path)\n",
    "    b = b[:-3]+'png'\n",
    "    os.rename(path, os.path.join(a, b))"
   ]
  },
  {
   "cell_type": "code",
   "execution_count": 67,
   "metadata": {},
   "outputs": [],
   "source": [
    "path_inputs = glob('data/input_pts/*/*input.png')\n",
    "path_1_outputs = glob('data/input_pts/*/*1.png')\n",
    "path_2_outputs = glob('data/input_pts/*/*2.png')"
   ]
  },
  {
   "cell_type": "code",
   "execution_count": 68,
   "metadata": {},
   "outputs": [
    {
     "name": "stdout",
     "output_type": "stream",
     "text": [
      "mkdir: data/train: File exists\r\n"
     ]
    }
   ],
   "source": [
    "!mkdir data/train"
   ]
  },
  {
   "cell_type": "code",
   "execution_count": 74,
   "metadata": {
    "scrolled": false
   },
   "outputs": [
    {
     "name": "stdout",
     "output_type": "stream",
     "text": [
      "data/input_pts/6/input.png False\n",
      "data/train/0.png\n",
      "data/input_pts/1/input.png False\n",
      "data/train/1.png\n",
      "data/input_pts/4/input.png False\n",
      "data/train/2.png\n",
      "data/input_pts/3/input.png False\n",
      "data/train/3.png\n",
      "data/input_pts/2/input.png False\n",
      "data/train/4.png\n",
      "data/input_pts/5/input.png False\n",
      "data/train/5.png\n"
     ]
    }
   ],
   "source": [
    "i = 0\n",
    "for pin, pout1, pout2 in zip(path_inputs, path_1_outputs, path_2_outputs):\n",
    "    im_input = load_image(pin)    \n",
    "    im1_out = np.array((cv2.imread(pout1, 0) < 200)*255, dtype='uint8')\n",
    "    im2_out = np.array((cv2.imread(pout2, 0) < 200)*255, dtype='uint8')\n",
    "    \n",
    "    output = np.stack([im1_out, im2_out, im2_out], axis=-1)\n",
    "    train_img = np.concatenate([im_input, output], axis=1)\n",
    "\n",
    "    output_path = 'data/train/{}.png'.format(i)\n",
    "    print(output_path)\n",
    "    write_image(output_path, train_img)\n",
    "    i+=1\n",
    "    "
   ]
  },
  {
   "cell_type": "code",
   "execution_count": 71,
   "metadata": {},
   "outputs": [
    {
     "name": "stdout",
     "output_type": "stream",
     "text": [
      "data/input_pts/1/output2.png False\n"
     ]
    }
   ],
   "source": [
    "img = load_image(path_2_outputs[1])"
   ]
  },
  {
   "cell_type": "code",
   "execution_count": null,
   "metadata": {},
   "outputs": [],
   "source": []
  },
  {
   "cell_type": "code",
   "execution_count": null,
   "metadata": {},
   "outputs": [],
   "source": []
  }
 ],
 "metadata": {
  "kernelspec": {
   "display_name": "Python 3",
   "language": "python",
   "name": "python3"
  },
  "language_info": {
   "codemirror_mode": {
    "name": "ipython",
    "version": 3
   },
   "file_extension": ".py",
   "mimetype": "text/x-python",
   "name": "python",
   "nbconvert_exporter": "python",
   "pygments_lexer": "ipython3",
   "version": "3.6.3"
  }
 },
 "nbformat": 4,
 "nbformat_minor": 2
}
