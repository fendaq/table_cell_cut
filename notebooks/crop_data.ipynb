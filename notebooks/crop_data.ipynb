{
 "cells": [
  {
   "cell_type": "code",
   "execution_count": null,
   "metadata": {},
   "outputs": [],
   "source": [
    "!pip install tqdm"
   ]
  },
  {
   "cell_type": "code",
   "execution_count": null,
   "metadata": {},
   "outputs": [],
   "source": [
    "import cv2\n",
    "import numpy as np\n",
    "from glob import glob\n",
    "import matplotlib.pyplot as plt\n",
    "import os\n",
    "def load_image(path, gray=False):\n",
    "    '''\n",
    "        return RGB or gray image\n",
    "    '''\n",
    "#     print(path, gray)\n",
    "\n",
    "    if gray:\n",
    "        img= cv2.imread(path, 0)\n",
    "        \n",
    "    else:\n",
    "        img= cv2.cvtColor(cv2.imread(path), cv2.COLOR_BGR2RGB)\n",
    "    \n",
    "    return img\n",
    "\n",
    "\n",
    "def write_image(path, image):\n",
    "    # print('write: {}, shape:{}'.format(path, image.shape))\n",
    "    image = cv2.cvtColor(image, cv2.COLOR_RGB2BGR)\n",
    "    return cv2.imwrite(path, image)\n",
    "    \n",
    "def show(x):\n",
    "    plt.figure(figsize=(20, 20))\n",
    "    plt.show(plt.imshow(x))\n",
    "\n",
    "def normalize(im):\n",
    "    _ = np.array(im<250, dtype='uint8')\n",
    "    _ *= 255\n",
    "    return _\n",
    "def get_name(path):\n",
    "    name, _ = os.path.splitext(os.path.basename(path))\n",
    "    return name\n",
    "\n",
    "paths = [path for path in glob('data/refine2_combined/train/*.png')]#if not get_name(path).isdigit()]\n",
    "print('Num of big examples:', len(paths))\n",
    "CROP_SIZE=512"
   ]
  },
  {
   "cell_type": "code",
   "execution_count": null,
   "metadata": {},
   "outputs": [],
   "source": [
    "def split(img):\n",
    "    \n",
    "    w = img.shape[1]\n",
    "    return img[:,:w//2], normalize(img[:,w//2:])"
   ]
  },
  {
   "cell_type": "code",
   "execution_count": null,
   "metadata": {},
   "outputs": [],
   "source": [
    "def random_crop(a, b):\n",
    "    h,w = a.shape[:2]\n",
    "    i1 = np.random.choice(h-CROP_SIZE)\n",
    "    i2 = np.random.choice(w-CROP_SIZE)\n",
    "    a_=  a[i1:i1+CROP_SIZE, i2:i2+CROP_SIZE]\n",
    "    b_=  b[i1:i1+CROP_SIZE, i2:i2+CROP_SIZE]\n",
    "    return np.concatenate([a_, b_], axis=1)"
   ]
  },
  {
   "cell_type": "code",
   "execution_count": null,
   "metadata": {},
   "outputs": [],
   "source": [
    "os.makedirs('data/train/{}'.format(CROP_SIZE), exist_ok=True)"
   ]
  },
  {
   "cell_type": "code",
   "execution_count": null,
   "metadata": {
    "scrolled": true
   },
   "outputs": [],
   "source": [
    "i = 0\n",
    "down_scale_mean = .5\n",
    "from tqdm import tqdm \n",
    "for path in tqdm(paths):\n",
    "    bigimg = load_image(path)\n",
    "    for _ in range(30):\n",
    "        down_scale = (np.random.uniform(-.15, .15)+1)*down_scale_mean\n",
    "        resized = cv2.resize(bigimg, (0,0), fx=down_scale, fy=down_scale)        \n",
    "        print(resized.shape, down_scale)\n",
    "        a,b = split(resized)\n",
    "        for _ in range(5):\n",
    "            sample = random_crop(a, b)\n",
    "            write_image('data/train/{}/{}.png'.format(CROP_SIZE, i), sample)\n",
    "            i += 1"
   ]
  },
  {
   "cell_type": "code",
   "execution_count": null,
   "metadata": {},
   "outputs": [],
   "source": [
    "b.shape"
   ]
  },
  {
   "cell_type": "code",
   "execution_count": 8,
   "metadata": {},
   "outputs": [
    {
     "name": "stdout",
     "output_type": "stream",
     "text": [
      "1500\n"
     ]
    }
   ],
   "source": [
    "paths = glob('data/train/512/*')\n",
    "print(len(paths))"
   ]
  },
  {
   "cell_type": "code",
   "execution_count": null,
   "metadata": {},
   "outputs": [],
   "source": []
  },
  {
   "cell_type": "code",
   "execution_count": null,
   "metadata": {},
   "outputs": [],
   "source": []
  },
  {
   "cell_type": "code",
   "execution_count": null,
   "metadata": {},
   "outputs": [],
   "source": []
  },
  {
   "cell_type": "code",
   "execution_count": null,
   "metadata": {},
   "outputs": [],
   "source": []
  },
  {
   "cell_type": "code",
   "execution_count": null,
   "metadata": {},
   "outputs": [],
   "source": []
  },
  {
   "cell_type": "code",
   "execution_count": null,
   "metadata": {},
   "outputs": [],
   "source": []
  },
  {
   "cell_type": "code",
   "execution_count": null,
   "metadata": {},
   "outputs": [],
   "source": []
  },
  {
   "cell_type": "code",
   "execution_count": null,
   "metadata": {},
   "outputs": [],
   "source": []
  },
  {
   "cell_type": "code",
   "execution_count": null,
   "metadata": {},
   "outputs": [],
   "source": []
  },
  {
   "cell_type": "code",
   "execution_count": null,
   "metadata": {},
   "outputs": [],
   "source": []
  }
 ],
 "metadata": {
  "kernelspec": {
   "display_name": "Python 3",
   "language": "python",
   "name": "python3"
  },
  "language_info": {
   "codemirror_mode": {
    "name": "ipython",
    "version": 3
   },
   "file_extension": ".py",
   "mimetype": "text/x-python",
   "name": "python",
   "nbconvert_exporter": "python",
   "pygments_lexer": "ipython3",
   "version": "3.6.4"
  }
 },
 "nbformat": 4,
 "nbformat_minor": 2
}
